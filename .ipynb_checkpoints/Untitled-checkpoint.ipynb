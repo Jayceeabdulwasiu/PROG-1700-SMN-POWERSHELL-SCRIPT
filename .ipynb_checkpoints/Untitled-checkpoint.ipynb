{
 "cells": [
  {
   "cell_type": "code",
   "execution_count": 1,
   "id": "59254391-841a-432a-8782-5804bafbfe34",
   "metadata": {},
   "outputs": [
    {
     "data": {
      "text/html": [
       "\r\n",
       "<div>\r\n",
       "    <div id='dotnet-interactive-this-cell-10312.Microsoft.DotNet.Interactive.Http.HttpPort' style='display: none'>\r\n",
       "        The below script needs to be able to find the current output cell; this is an easy method to get it.\r\n",
       "    </div>\r\n",
       "    <script type='text/javascript'>\r\n",
       "async function probeAddresses(probingAddresses) {\r\n",
       "    function timeout(ms, promise) {\r\n",
       "        return new Promise(function (resolve, reject) {\r\n",
       "            setTimeout(function () {\r\n",
       "                reject(new Error('timeout'))\r\n",
       "            }, ms)\r\n",
       "            promise.then(resolve, reject)\r\n",
       "        })\r\n",
       "    }\r\n",
       "\r\n",
       "    if (Array.isArray(probingAddresses)) {\r\n",
       "        for (let i = 0; i < probingAddresses.length; i++) {\r\n",
       "\r\n",
       "            let rootUrl = probingAddresses[i];\r\n",
       "\r\n",
       "            if (!rootUrl.endsWith('/')) {\r\n",
       "                rootUrl = `${rootUrl}/`;\r\n",
       "            }\r\n",
       "\r\n",
       "            try {\r\n",
       "                let response = await timeout(1000, fetch(`${rootUrl}discovery`, {\r\n",
       "                    method: 'POST',\r\n",
       "                    cache: 'no-cache',\r\n",
       "                    mode: 'cors',\r\n",
       "                    timeout: 1000,\r\n",
       "                    headers: {\r\n",
       "                        'Content-Type': 'text/plain'\r\n",
       "                    },\r\n",
       "                    body: probingAddresses[i]\r\n",
       "                }));\r\n",
       "\r\n",
       "                if (response.status == 200) {\r\n",
       "                    return rootUrl;\r\n",
       "                }\r\n",
       "            }\r\n",
       "            catch (e) { }\r\n",
       "        }\r\n",
       "    }\r\n",
       "}\r\n",
       "\r\n",
       "function loadDotnetInteractiveApi() {\r\n",
       "    probeAddresses([\"http://192.168.208.129:1000/\", \"http://127.0.0.1:1000/\"])\r\n",
       "        .then((root) => {\r\n",
       "        // use probing to find host url and api resources\r\n",
       "        // load interactive helpers and language services\r\n",
       "        let dotnetInteractiveRequire = require.config({\r\n",
       "        context: '10312.Microsoft.DotNet.Interactive.Http.HttpPort',\r\n",
       "                paths:\r\n",
       "            {\r\n",
       "                'dotnet-interactive': `${root}resources`\r\n",
       "                }\r\n",
       "        }) || require;\r\n",
       "\r\n",
       "            window.dotnetInteractiveRequire = dotnetInteractiveRequire;\r\n",
       "\r\n",
       "            window.configureRequireFromExtension = function(extensionName, extensionCacheBuster) {\r\n",
       "                let paths = {};\r\n",
       "                paths[extensionName] = `${root}extensions/${extensionName}/resources/`;\r\n",
       "                \r\n",
       "                let internalRequire = require.config({\r\n",
       "                    context: extensionCacheBuster,\r\n",
       "                    paths: paths,\r\n",
       "                    urlArgs: `cacheBuster=${extensionCacheBuster}`\r\n",
       "                    }) || require;\r\n",
       "\r\n",
       "                return internalRequire\r\n",
       "            };\r\n",
       "        \r\n",
       "            dotnetInteractiveRequire([\r\n",
       "                    'dotnet-interactive/dotnet-interactive'\r\n",
       "                ],\r\n",
       "                function (dotnet) {\r\n",
       "                    dotnet.init(window);\r\n",
       "                },\r\n",
       "                function (error) {\r\n",
       "                    console.log(error);\r\n",
       "                }\r\n",
       "            );\r\n",
       "        })\r\n",
       "        .catch(error => {console.log(error);});\r\n",
       "    }\r\n",
       "\r\n",
       "// ensure `require` is available globally\r\n",
       "if ((typeof(require) !==  typeof(Function)) || (typeof(require.config) !== typeof(Function))) {\r\n",
       "    let require_script = document.createElement('script');\r\n",
       "    require_script.setAttribute('src', 'https://cdnjs.cloudflare.com/ajax/libs/require.js/2.3.6/require.min.js');\r\n",
       "    require_script.setAttribute('type', 'text/javascript');\r\n",
       "    \r\n",
       "    \r\n",
       "    require_script.onload = function() {\r\n",
       "        loadDotnetInteractiveApi();\r\n",
       "    };\r\n",
       "\r\n",
       "    document.getElementsByTagName('head')[0].appendChild(require_script);\r\n",
       "}\r\n",
       "else {\r\n",
       "    loadDotnetInteractiveApi();\r\n",
       "}\r\n",
       "\r\n",
       "    </script>\r\n",
       "</div>"
      ]
     },
     "metadata": {},
     "output_type": "display_data"
    },
    {
     "name": "stdout",
     "output_type": "stream",
     "text": [
      "Hello World!\n"
     ]
    }
   ],
   "source": [
    "Write-Host \"Hello World!\""
   ]
  },
  {
   "cell_type": "code",
   "execution_count": 2,
   "id": "097980b8-de27-498d-8545-d817a59ebc9d",
   "metadata": {},
   "outputs": [
    {
     "name": "stdout",
     "output_type": "stream",
     "text": [
      "Wasiu Abdul\n"
     ]
    }
   ],
   "source": [
    "$name = \"Wasiu Abdul\"\n",
    "Write-Host $name"
   ]
  },
  {
   "cell_type": "code",
   "execution_count": 3,
   "id": "a01a4478-466b-4f75-8aa0-a2e424156666",
   "metadata": {},
   "outputs": [
    {
     "name": "stdout",
     "output_type": "stream",
     "text": [
      "Hello Wasiu Abdul\n"
     ]
    }
   ],
   "source": [
    "write-host \"Hello\" $name"
   ]
  },
  {
   "cell_type": "code",
   "execution_count": 4,
   "id": "775242ec-6479-4240-850b-8a11d681c87a",
   "metadata": {},
   "outputs": [
    {
     "name": "stdout",
     "output_type": "stream",
     "text": [
      "4\n"
     ]
    }
   ],
   "source": [
    "2+2"
   ]
  },
  {
   "cell_type": "code",
   "execution_count": 5,
   "id": "79aa9fdf-417d-4955-805e-5ab7a295b3d5",
   "metadata": {},
   "outputs": [
    {
     "name": "stdout",
     "output_type": "stream",
     "text": [
      "2+2\n"
     ]
    }
   ],
   "source": [
    "Write-Host 2+2"
   ]
  },
  {
   "cell_type": "code",
   "execution_count": 6,
   "id": "07b9f275-a14e-4af0-8070-2d0bc728976d",
   "metadata": {},
   "outputs": [
    {
     "name": "stdout",
     "output_type": "stream",
     "text": [
      "4\n"
     ]
    }
   ],
   "source": [
    "Write-Host (2 + 2)"
   ]
  },
  {
   "cell_type": "code",
   "execution_count": 8,
   "id": "ac737ea1-1d44-45b1-a578-96466f104334",
   "metadata": {},
   "outputs": [
    {
     "name": "stdout",
     "output_type": "stream",
     "text": [
      "4\n"
     ]
    }
   ],
   "source": [
    "Write-Host (2+2)"
   ]
  },
  {
   "cell_type": "code",
   "execution_count": 9,
   "id": "e3345269-b429-49ab-9448-b47a2fcf9f2d",
   "metadata": {},
   "outputs": [
    {
     "name": "stdout",
     "output_type": "stream",
     "text": [
      "my number is 10\n"
     ]
    }
   ],
   "source": [
    "$num= \"10\"\n",
    "write-host \"my number is $num\""
   ]
  },
  {
   "cell_type": "code",
   "execution_count": 10,
   "id": "49999a6f-2fe3-4c4e-b69b-4cdf5d4ea384",
   "metadata": {},
   "outputs": [
    {
     "name": "stdout",
     "output_type": "stream",
     "text": [
      "my number is 10\n"
     ]
    }
   ],
   "source": [
    "write-host my number is $num"
   ]
  },
  {
   "cell_type": "code",
   "execution_count": 11,
   "id": "25b9f19f-97cb-487c-92ad-d4902b5ec56b",
   "metadata": {},
   "outputs": [
    {
     "name": "stdout",
     "output_type": "stream",
     "text": [
      "\u001b[91mmy: \u001b[91mThe term 'my' is not recognized as a name of a cmdlet, function, script file, or executable program.\n",
      "Check the spelling of the name, or if a path was included, verify that the path is correct and try again.\u001b[0m\n"
     ]
    }
   ],
   "source": [
    "write-host (my score is $num)"
   ]
  },
  {
   "cell_type": "code",
   "execution_count": 12,
   "id": "f9336362-ff74-45e1-9419-31482afd361f",
   "metadata": {},
   "outputs": [
    {
     "name": "stdout",
     "output_type": "stream",
     "text": [
      "my score is 10\n"
     ]
    }
   ],
   "source": [
    "write-host my score is $num"
   ]
  },
  {
   "cell_type": "code",
   "execution_count": 13,
   "id": "e2dac64d-00b0-4dea-af65-f38e2b7915b0",
   "metadata": {},
   "outputs": [
    {
     "name": "stdout",
     "output_type": "stream",
     "text": [
      "2\n"
     ]
    }
   ],
   "source": [
    "4-2"
   ]
  },
  {
   "cell_type": "code",
   "execution_count": 14,
   "id": "c8559df3-068f-49f1-9a23-15428336df62",
   "metadata": {},
   "outputs": [
    {
     "name": "stdout",
     "output_type": "stream",
     "text": [
      "\u001b[91mmy: \u001b[91mThe term 'my' is not recognized as a name of a cmdlet, function, script file, or executable program.\n",
      "Check the spelling of the name, or if a path was included, verify that the path is correct and try again.\u001b[0m\n"
     ]
    }
   ],
   "source": [
    "write-host ( my score is $num)"
   ]
  },
  {
   "cell_type": "code",
   "execution_count": 15,
   "id": "1e420581-0efa-4842-94b2-6fe04bb86195",
   "metadata": {},
   "outputs": [
    {
     "name": "stdout",
     "output_type": "stream",
     "text": [
      "\u001b[91mmy: \u001b[91mThe term 'my' is not recognized as a name of a cmdlet, function, script file, or executable program.\n",
      "Check the spelling of the name, or if a path was included, verify that the path is correct and try again.\u001b[0m\n"
     ]
    }
   ],
   "source": [
    "write-host ( my score is $num )"
   ]
  },
  {
   "cell_type": "code",
   "execution_count": 16,
   "id": "e6b8c5a7-af1e-413e-a9d1-20c5dbca00eb",
   "metadata": {},
   "outputs": [
    {
     "name": "stdout",
     "output_type": "stream",
     "text": [
      "my score is 10\n"
     ]
    }
   ],
   "source": [
    "write-host my score is $num"
   ]
  },
  {
   "cell_type": "code",
   "execution_count": 17,
   "id": "b371880e-03c0-4626-883f-8804cb2fd683",
   "metadata": {},
   "outputs": [
    {
     "name": "stdout",
     "output_type": "stream",
     "text": [
      "10\n"
     ]
    }
   ],
   "source": [
    "5*2"
   ]
  },
  {
   "cell_type": "code",
   "execution_count": 18,
   "id": "09f7a704-e33f-4d15-9b60-b5e280c49709",
   "metadata": {},
   "outputs": [
    {
     "name": "stdout",
     "output_type": "stream",
     "text": [
      "2\n"
     ]
    }
   ],
   "source": [
    "10/5"
   ]
  },
  {
   "cell_type": "code",
   "execution_count": 21,
   "id": "8310d047-c631-4191-a01d-915928821160",
   "metadata": {},
   "outputs": [
    {
     "name": "stdout",
     "output_type": "stream",
     "text": [
      "1\n"
     ]
    }
   ],
   "source": [
    "# modulus division gives you the remainder of a long division\n",
    "5 % 2"
   ]
  },
  {
   "cell_type": "code",
   "execution_count": 22,
   "id": "8b916027-be25-420d-88f1-b44e79ff1e37",
   "metadata": {},
   "outputs": [
    {
     "name": "stdout",
     "output_type": "stream",
     "text": [
      "8\n"
     ]
    }
   ],
   "source": [
    "# exponents (using the .Net Math library)\n",
    "[Math]::pow(2,3)"
   ]
  },
  {
   "cell_type": "code",
   "execution_count": 26,
   "id": "ca9bad30-7c4d-43f6-a952-3c8da158c0cb",
   "metadata": {},
   "outputs": [
    {
     "name": "stdout",
     "output_type": "stream",
     "text": [
      "3.14159265358979\n"
     ]
    }
   ],
   "source": [
    "# get the value of Pi\n",
    "[Math]:: PI"
   ]
  },
  {
   "cell_type": "code",
   "execution_count": 28,
   "id": "ce37d5f2-5432-48a4-ad36-aa44d68cc1cc",
   "metadata": {},
   "outputs": [
    {
     "name": "stdout",
     "output_type": "stream",
     "text": [
      "5\n"
     ]
    }
   ],
   "source": [
    "# square roots \n",
    "[Math]::sqrt(25)"
   ]
  },
  {
   "cell_type": "code",
   "execution_count": 29,
   "id": "11dfa420-c18c-41dc-8fa3-e56c7440072f",
   "metadata": {},
   "outputs": [
    {
     "name": "stdout",
     "output_type": "stream",
     "text": [
      "2\n"
     ]
    }
   ],
   "source": [
    "# remove decimal from answer\n",
    "[Math]::floor(5/2)"
   ]
  },
  {
   "cell_type": "code",
   "execution_count": 30,
   "id": "f1497463-36b4-4def-94aa-4c17973fab22",
   "metadata": {},
   "outputs": [
    {
     "name": "stdout",
     "output_type": "stream",
     "text": [
      "3\n"
     ]
    }
   ],
   "source": [
    "# remove decimal and move the next value\n",
    "[Math]::ceiling(5/2)"
   ]
  },
  {
   "cell_type": "code",
   "execution_count": 31,
   "id": "cb4a51bf-0aec-4542-b0bc-d318cea2d34b",
   "metadata": {},
   "outputs": [
    {
     "name": "stdout",
     "output_type": "stream",
     "text": [
      "3.14159\n"
     ]
    }
   ],
   "source": [
    "# rounding a decimal\n",
    "[Math]::round([Math]::PI, 5)"
   ]
  },
  {
   "cell_type": "code",
   "execution_count": 32,
   "id": "468739f9-d5ea-4241-aca1-0618f633e612",
   "metadata": {},
   "outputs": [
    {
     "name": "stdout",
     "output_type": "stream",
     "text": [
      "12345 74565\n"
     ]
    }
   ],
   "source": [
    "# to use hexadecimal values\n",
    "$number = 12345\n",
    "$hexadecimal = 0x12345\n",
    "Write-Host $number, $hexadecimal"
   ]
  },
  {
   "cell_type": "code",
   "execution_count": 34,
   "id": "1c29cbc0-eaee-43ed-8307-4c4b4ad8f0bd",
   "metadata": {},
   "outputs": [
    {
     "name": "stdout",
     "output_type": "stream",
     "text": [
      "2\n"
     ]
    }
   ],
   "source": [
    "# display a number as binary\n",
    "Write-Host ($hexadecimal.toString(2))"
   ]
  },
  {
   "cell_type": "code",
   "execution_count": 35,
   "id": "f72a4156-b8c2-437e-8e22-e405cd50aa2e",
   "metadata": {},
   "outputs": [
    {
     "name": "stdout",
     "output_type": "stream",
     "text": [
      "10\n"
     ]
    }
   ],
   "source": [
    "2 + \"8\""
   ]
  },
  {
   "cell_type": "code",
   "execution_count": 36,
   "id": "f91f0dc5-d5dd-48fc-b938-98073c395516",
   "metadata": {},
   "outputs": [
    {
     "name": "stdout",
     "output_type": "stream",
     "text": [
      "\u001b[91mInvalidArgument: \u001b[91mCannot convert value \"8X\" to type \"System.Int32\". Error: \"Input string was not in a correct format.\"\u001b[0m\n"
     ]
    }
   ],
   "source": [
    "2 + \"8X\""
   ]
  },
  {
   "cell_type": "code",
   "execution_count": 38,
   "id": "48a92611-05f8-44dd-afd2-2251afe573d6",
   "metadata": {},
   "outputs": [
    {
     "name": "stdout",
     "output_type": "stream",
     "text": [
      "28X\n"
     ]
    }
   ],
   "source": [
    "# string concatenation\n",
    "\"2\" + \"8X\""
   ]
  },
  {
   "cell_type": "code",
   "execution_count": 39,
   "id": "a0862339-a2ce-4db9-8c89-2de3c5261616",
   "metadata": {},
   "outputs": [
    {
     "name": "stdout",
     "output_type": "stream",
     "text": [
      "Simple\n"
     ]
    }
   ],
   "source": [
    "# simple writing\n",
    "Write-Host \"Simple\""
   ]
  },
  {
   "cell_type": "code",
   "execution_count": 40,
   "id": "77ec5a1c-069b-4020-8b5b-c3716a0f3684",
   "metadata": {},
   "outputs": [
    {
     "name": "stdout",
     "output_type": "stream",
     "text": [
      "PROG1700\n"
     ]
    }
   ],
   "source": [
    "# write a variable\n",
    "$course = \"PROG1700\"\n",
    "Write-Host $course"
   ]
  },
  {
   "cell_type": "code",
   "execution_count": 44,
   "id": "3cdb8c6b-a5f0-41c1-aa63-64107229d9da",
   "metadata": {},
   "outputs": [
    {
     "name": "stdout",
     "output_type": "stream",
     "text": [
      "Separated With Spaces\n",
      "seperated with commas\n",
      "String 123 3.14159 True\n",
      "separated with spaces\n"
     ]
    }
   ],
   "source": [
    "# write multiple items \n",
    "Write-Host \"Separated\" \"With\" \"Spaces\"\n",
    "Write-Host \"seperated\" \"with\" \"commas\"\n",
    "Write-Host \"String\" 123 3.14159 $true\n",
    "Write-Host separated with spaces"
   ]
  },
  {
   "cell_type": "code",
   "execution_count": 45,
   "id": "ee51efea-771f-477f-89d6-8afb7d458993",
   "metadata": {},
   "outputs": [
    {
     "name": "stdout",
     "output_type": "stream",
     "text": [
      "1 + 2\n",
      "3\n"
     ]
    }
   ],
   "source": [
    "# mathematical expressions\n",
    "Write-Host 1 + 2\n",
    "Write-Host (1 + 2)"
   ]
  },
  {
   "cell_type": "code",
   "execution_count": 46,
   "id": "159e409c-7103-466a-a75d-ac89a7256e70",
   "metadata": {},
   "outputs": [
    {
     "name": "stdout",
     "output_type": "stream",
     "text": [
      "****************************************\n"
     ]
    }
   ],
   "source": [
    "# repeating\n",
    "Write-Host (\"*\" * 40)"
   ]
  },
  {
   "cell_type": "code",
   "execution_count": 54,
   "id": "c1674400-ed52-4e66-b25e-3df3c35f9904",
   "metadata": {},
   "outputs": [
    {
     "name": "stdout",
     "output_type": "stream",
     "text": [
      "First: Bob , Last: Smith ID:  W123456\n",
      "First: Bob, Last: Smith, ID: W123456\n",
      "First: Bob, Last: Smith, ID: W123456\n"
     ]
    }
   ],
   "source": [
    "# variable substitution\n",
    "$firstName = \"Bob\"\n",
    "$lastName = \"Smith\"\n",
    "$studentID = \"W123456\"\n",
    "Write-Host \"First:\" $firstName \", Last: $lastName\", ID: \" $studentID\"\n",
    "Write-Host (\"First: {0}, Last: {1}, ID: {2}\" -f $firstName, $lastName, $studentID)\n",
    "Write-Host \"First: $firstName, Last: $lastName, ID: $studentID\""
   ]
  },
  {
   "cell_type": "code",
   "execution_count": 55,
   "id": "90ee7761-4e63-48cc-8b20-92d9c6b49a21",
   "metadata": {},
   "outputs": [
    {
     "name": "stdout",
     "output_type": "stream",
     "text": [
      "1 + 2=3\n"
     ]
    }
   ],
   "source": [
    "# less carriage returns\n",
    "Write-Host 1 + 2= -NoNewLine\n",
    "Write-Host (1 + 2)"
   ]
  },
  {
   "cell_type": "code",
   "execution_count": 57,
   "id": "eca34f71-6f13-4887-825e-e2889064b52e",
   "metadata": {},
   "outputs": [
    {
     "name": "stdout",
     "output_type": "stream",
     "text": [
      " This is a poem that\n",
      "should be on two lines.\n"
     ]
    }
   ],
   "source": [
    "# mopre carriage returns\n",
    "Write-Host \" This is a poem that`nshould be on two lines.\""
   ]
  },
  {
   "cell_type": "code",
   "execution_count": null,
   "id": "dd8d1b25-6d45-434a-b1e6-e6af14a9fb8f",
   "metadata": {},
   "outputs": [],
   "source": []
  }
 ],
 "metadata": {
  "kernelspec": {
   "display_name": ".NET (PowerShell)",
   "language": "PowerShell",
   "name": ".net-powershell"
  },
  "language_info": {
   "file_extension": ".ps1",
   "mimetype": "text/x-powershell",
   "name": "PowerShell",
   "pygments_lexer": "powershell",
   "version": "7.0"
  }
 },
 "nbformat": 4,
 "nbformat_minor": 5
}
