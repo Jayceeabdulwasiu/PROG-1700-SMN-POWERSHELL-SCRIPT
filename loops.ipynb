{
 "cells": [
  {
   "cell_type": "code",
   "execution_count": null,
   "metadata": {
    "dotnet_interactive": {
     "language": "csharp"
    }
   },
   "outputs": [
    {
     "ename": "Error",
     "evalue": "(1,3): error CS1024: Preprocessor directive expected\r\n(2,1): error CS1056: Unexpected character '$'\r\n(2,9): error CS1002: ; expected\r\n(4,16): error CS1002: ; expected\r\n(4,34): error CS1002: ; expected\r\n(5,10): error CS1525: Invalid expression term ''\r\n(5,10): error CS1026: ) expected\r\n(5,10): error CS1002: ; expected\r\n(5,10): error CS1056: Unexpected character '$'\r\n(5,19): error CS1002: ; expected\r\n(5,20): error CS1002: ; expected\r\n(5,20): error CS7017: Member definition, statement, or end-of-file expected",
     "output_type": "error",
     "traceback": [
      "(1,3): error CS1024: Preprocessor directive expected\r\n",
      "(2,1): error CS1056: Unexpected character '$'\r\n",
      "(2,9): error CS1002: ; expected\r\n",
      "(4,16): error CS1002: ; expected\r\n",
      "(4,34): error CS1002: ; expected\r\n",
      "(5,10): error CS1525: Invalid expression term ''\r\n",
      "(5,10): error CS1026: ) expected\r\n",
      "(5,10): error CS1002: ; expected\r\n",
      "(5,10): error CS1056: Unexpected character '$'\r\n",
      "(5,19): error CS1002: ; expected\r\n",
      "(5,20): error CS1002: ; expected\r\n",
      "(5,20): error CS7017: Member definition, statement, or end-of-file expected"
     ]
    }
   ],
   "source": [
    "# do while runs at least once\n",
    "$num = 0\n",
    "do {\n",
    "    Write-Host \" You can see me!\"\n",
    "} while ($num -eq 5)"
   ]
  },
  {
   "cell_type": "code",
   "execution_count": null,
   "metadata": {
    "dotnet_interactive": {
     "language": "csharp"
    }
   },
   "outputs": [],
   "source": [
    "# sentinel values\n",
    "do {\n",
    "    $input = Read-Hosy \"Enter a number (Enter to end)\"\n",
    "} while ($userInput -ne \"\")"
   ]
  }
 ],
 "metadata": {
  "kernelspec": {
   "display_name": ".NET (C#)",
   "language": "C#",
   "name": ".net-csharp"
  },
  "language_info": {
   "file_extension": ".cs",
   "mimetype": "text/x-csharp",
   "name": "C#",
   "pygments_lexer": "csharp",
   "version": "9.0"
  },
  "orig_nbformat": 4
 },
 "nbformat": 4,
 "nbformat_minor": 2
}
