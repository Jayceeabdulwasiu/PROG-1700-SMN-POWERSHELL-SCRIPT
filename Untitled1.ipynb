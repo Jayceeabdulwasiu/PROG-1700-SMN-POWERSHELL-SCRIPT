{
 "cells": [
  {
   "cell_type": "code",
   "execution_count": null,
   "id": "2bc28d69-746d-4768-869f-70fd5fa4cf5e",
   "metadata": {
    "dotnet_interactive": {
     "language": "pwsh"
    }
   },
   "outputs": [],
   "source": [
    "$num = 5\n",
    "while ($num -lt 10) {\n",
    "    Write-Host \"I am Happy\"\n",
    "}"
   ]
  }
 ],
 "metadata": {
  "kernelspec": {
   "display_name": ".NET (PowerShell)",
   "language": "PowerShell",
   "name": ".net-powershell"
  },
  "language_info": {
   "file_extension": ".ps1",
   "mimetype": "text/x-powershell",
   "name": "PowerShell",
   "pygments_lexer": "powershell",
   "version": "7.0"
  }
 },
 "nbformat": 4,
 "nbformat_minor": 5
}
